{
  "cells": [
    {
      "cell_type": "code",
      "execution_count": null,
      "metadata": {
        "id": "y3DiadTG-ru-"
      },
      "outputs": [],
      "source": [
        "import pandas as pd\n",
        "import numpy as np\n",
        "from matplotlib import pyplot as plt\n",
        "import seaborn \n",
        "import plotly.express as px"
      ]
    },
    {
      "cell_type": "markdown",
      "metadata": {
        "id": "-QpBS-Nd-fAO"
      },
      "source": [
        "# Домашняя работа: деревья решений"
      ]
    },
    {
      "cell_type": "markdown",
      "metadata": {
        "id": "1ZVCYFgU-5Tw"
      },
      "source": [
        "В этой домашней работе вам предстоит научиться предсказывать цены товаров из маркетплейса Azamon.\n",
        "\n",
        "Требования к домашней работе:\n",
        "- Во всех графиках должны быть подписи через title, legend, etc.\n",
        "- Во время обучения моделей проверяйте, что у вас не текут данные. Обычно это позитивно влияет на качество модели на тесте, но негативно влияет на оценку 🌚\n",
        "- Если вы сдаете работу в Google Colaboratory, убедитесь, что ваша тетрадка доступна по ссылке.\n",
        "- Использование мемов допускается, но необходимо соблюдать меру. Несодержательная работа, состоящая только из мемов, получает 0 баллов."
      ]
    },
    {
      "cell_type": "markdown",
      "metadata": {
        "id": "JyTAlXb8CbXk"
      },
      "source": [
        "# Загрузка и подготовка данных"
      ]
    },
    {
      "cell_type": "code",
      "execution_count": null,
      "metadata": {
        "colab": {
          "base_uri": "https://localhost:8080/",
          "height": 206
        },
        "id": "QCubdMbWNEdG",
        "outputId": "a9970367-a328-4319-b3ac-223622df830c"
      },
      "outputs": [
        {
          "output_type": "execute_result",
          "data": {
            "text/plain": [
              "  manufacturer   price number_available_in_stock number_of_reviews  \\\n",
              "0       Hornby   £3.42                     5 new                15   \n",
              "1    FunkyBuys  £16.99                       NaN                 2   \n",
              "2          ccf   £9.99                     2 new                17   \n",
              "3       Hornby  £39.99                       NaN                 1   \n",
              "4       Hornby  £32.19                       NaN                 3   \n",
              "\n",
              "   number_of_answered_questions average_review_rating  \\\n",
              "0                           1.0    4.9 out of 5 stars   \n",
              "1                           1.0    4.5 out of 5 stars   \n",
              "2                           2.0    3.9 out of 5 stars   \n",
              "3                           2.0    5.0 out of 5 stars   \n",
              "4                           2.0    4.7 out of 5 stars   \n",
              "\n",
              "                    amazon_category_and_sub_category  \n",
              "0  Hobbies > Model Trains & Railway Sets > Rail V...  \n",
              "1  Hobbies > Model Trains & Railway Sets > Rail V...  \n",
              "2  Hobbies > Model Trains & Railway Sets > Rail V...  \n",
              "3  Hobbies > Model Trains & Railway Sets > Rail V...  \n",
              "4  Hobbies > Model Trains & Railway Sets > Rail V...  "
            ],
            "text/html": [
              "\n",
              "  <div id=\"df-514cbcbe-05f5-4c27-9c1f-7859ee8c2710\">\n",
              "    <div class=\"colab-df-container\">\n",
              "      <div>\n",
              "<style scoped>\n",
              "    .dataframe tbody tr th:only-of-type {\n",
              "        vertical-align: middle;\n",
              "    }\n",
              "\n",
              "    .dataframe tbody tr th {\n",
              "        vertical-align: top;\n",
              "    }\n",
              "\n",
              "    .dataframe thead th {\n",
              "        text-align: right;\n",
              "    }\n",
              "</style>\n",
              "<table border=\"1\" class=\"dataframe\">\n",
              "  <thead>\n",
              "    <tr style=\"text-align: right;\">\n",
              "      <th></th>\n",
              "      <th>manufacturer</th>\n",
              "      <th>price</th>\n",
              "      <th>number_available_in_stock</th>\n",
              "      <th>number_of_reviews</th>\n",
              "      <th>number_of_answered_questions</th>\n",
              "      <th>average_review_rating</th>\n",
              "      <th>amazon_category_and_sub_category</th>\n",
              "    </tr>\n",
              "  </thead>\n",
              "  <tbody>\n",
              "    <tr>\n",
              "      <th>0</th>\n",
              "      <td>Hornby</td>\n",
              "      <td>£3.42</td>\n",
              "      <td>5 new</td>\n",
              "      <td>15</td>\n",
              "      <td>1.0</td>\n",
              "      <td>4.9 out of 5 stars</td>\n",
              "      <td>Hobbies &gt; Model Trains &amp; Railway Sets &gt; Rail V...</td>\n",
              "    </tr>\n",
              "    <tr>\n",
              "      <th>1</th>\n",
              "      <td>FunkyBuys</td>\n",
              "      <td>£16.99</td>\n",
              "      <td>NaN</td>\n",
              "      <td>2</td>\n",
              "      <td>1.0</td>\n",
              "      <td>4.5 out of 5 stars</td>\n",
              "      <td>Hobbies &gt; Model Trains &amp; Railway Sets &gt; Rail V...</td>\n",
              "    </tr>\n",
              "    <tr>\n",
              "      <th>2</th>\n",
              "      <td>ccf</td>\n",
              "      <td>£9.99</td>\n",
              "      <td>2 new</td>\n",
              "      <td>17</td>\n",
              "      <td>2.0</td>\n",
              "      <td>3.9 out of 5 stars</td>\n",
              "      <td>Hobbies &gt; Model Trains &amp; Railway Sets &gt; Rail V...</td>\n",
              "    </tr>\n",
              "    <tr>\n",
              "      <th>3</th>\n",
              "      <td>Hornby</td>\n",
              "      <td>£39.99</td>\n",
              "      <td>NaN</td>\n",
              "      <td>1</td>\n",
              "      <td>2.0</td>\n",
              "      <td>5.0 out of 5 stars</td>\n",
              "      <td>Hobbies &gt; Model Trains &amp; Railway Sets &gt; Rail V...</td>\n",
              "    </tr>\n",
              "    <tr>\n",
              "      <th>4</th>\n",
              "      <td>Hornby</td>\n",
              "      <td>£32.19</td>\n",
              "      <td>NaN</td>\n",
              "      <td>3</td>\n",
              "      <td>2.0</td>\n",
              "      <td>4.7 out of 5 stars</td>\n",
              "      <td>Hobbies &gt; Model Trains &amp; Railway Sets &gt; Rail V...</td>\n",
              "    </tr>\n",
              "  </tbody>\n",
              "</table>\n",
              "</div>\n",
              "      <button class=\"colab-df-convert\" onclick=\"convertToInteractive('df-514cbcbe-05f5-4c27-9c1f-7859ee8c2710')\"\n",
              "              title=\"Convert this dataframe to an interactive table.\"\n",
              "              style=\"display:none;\">\n",
              "        \n",
              "  <svg xmlns=\"http://www.w3.org/2000/svg\" height=\"24px\"viewBox=\"0 0 24 24\"\n",
              "       width=\"24px\">\n",
              "    <path d=\"M0 0h24v24H0V0z\" fill=\"none\"/>\n",
              "    <path d=\"M18.56 5.44l.94 2.06.94-2.06 2.06-.94-2.06-.94-.94-2.06-.94 2.06-2.06.94zm-11 1L8.5 8.5l.94-2.06 2.06-.94-2.06-.94L8.5 2.5l-.94 2.06-2.06.94zm10 10l.94 2.06.94-2.06 2.06-.94-2.06-.94-.94-2.06-.94 2.06-2.06.94z\"/><path d=\"M17.41 7.96l-1.37-1.37c-.4-.4-.92-.59-1.43-.59-.52 0-1.04.2-1.43.59L10.3 9.45l-7.72 7.72c-.78.78-.78 2.05 0 2.83L4 21.41c.39.39.9.59 1.41.59.51 0 1.02-.2 1.41-.59l7.78-7.78 2.81-2.81c.8-.78.8-2.07 0-2.86zM5.41 20L4 18.59l7.72-7.72 1.47 1.35L5.41 20z\"/>\n",
              "  </svg>\n",
              "      </button>\n",
              "      \n",
              "  <style>\n",
              "    .colab-df-container {\n",
              "      display:flex;\n",
              "      flex-wrap:wrap;\n",
              "      gap: 12px;\n",
              "    }\n",
              "\n",
              "    .colab-df-convert {\n",
              "      background-color: #E8F0FE;\n",
              "      border: none;\n",
              "      border-radius: 50%;\n",
              "      cursor: pointer;\n",
              "      display: none;\n",
              "      fill: #1967D2;\n",
              "      height: 32px;\n",
              "      padding: 0 0 0 0;\n",
              "      width: 32px;\n",
              "    }\n",
              "\n",
              "    .colab-df-convert:hover {\n",
              "      background-color: #E2EBFA;\n",
              "      box-shadow: 0px 1px 2px rgba(60, 64, 67, 0.3), 0px 1px 3px 1px rgba(60, 64, 67, 0.15);\n",
              "      fill: #174EA6;\n",
              "    }\n",
              "\n",
              "    [theme=dark] .colab-df-convert {\n",
              "      background-color: #3B4455;\n",
              "      fill: #D2E3FC;\n",
              "    }\n",
              "\n",
              "    [theme=dark] .colab-df-convert:hover {\n",
              "      background-color: #434B5C;\n",
              "      box-shadow: 0px 1px 3px 1px rgba(0, 0, 0, 0.15);\n",
              "      filter: drop-shadow(0px 1px 2px rgba(0, 0, 0, 0.3));\n",
              "      fill: #FFFFFF;\n",
              "    }\n",
              "  </style>\n",
              "\n",
              "      <script>\n",
              "        const buttonEl =\n",
              "          document.querySelector('#df-514cbcbe-05f5-4c27-9c1f-7859ee8c2710 button.colab-df-convert');\n",
              "        buttonEl.style.display =\n",
              "          google.colab.kernel.accessAllowed ? 'block' : 'none';\n",
              "\n",
              "        async function convertToInteractive(key) {\n",
              "          const element = document.querySelector('#df-514cbcbe-05f5-4c27-9c1f-7859ee8c2710');\n",
              "          const dataTable =\n",
              "            await google.colab.kernel.invokeFunction('convertToInteractive',\n",
              "                                                     [key], {});\n",
              "          if (!dataTable) return;\n",
              "\n",
              "          const docLinkHtml = 'Like what you see? Visit the ' +\n",
              "            '<a target=\"_blank\" href=https://colab.research.google.com/notebooks/data_table.ipynb>data table notebook</a>'\n",
              "            + ' to learn more about interactive tables.';\n",
              "          element.innerHTML = '';\n",
              "          dataTable['output_type'] = 'display_data';\n",
              "          await google.colab.output.renderOutput(dataTable, element);\n",
              "          const docLink = document.createElement('div');\n",
              "          docLink.innerHTML = docLinkHtml;\n",
              "          element.appendChild(docLink);\n",
              "        }\n",
              "      </script>\n",
              "    </div>\n",
              "  </div>\n",
              "  "
            ]
          },
          "metadata": {},
          "execution_count": 608
        }
      ],
      "source": [
        "df = pd.read_csv('amazon_co-ecommerce_sample.csv').drop(columns=[\n",
        "    'product_name',\n",
        "    'index',\n",
        "    'uniq_id',\n",
        "    'customers_who_bought_this_item_also_bought',\n",
        "    'items_customers_buy_after_viewing_this_item',\n",
        "    'sellers',\n",
        "    'description', # text\n",
        "    'product_information', # text\n",
        "    'product_description', # text\n",
        "    'customer_questions_and_answers', # text\n",
        "    'customer_reviews', # text\n",
        "])\n",
        "\n",
        "df.head()\n"
      ]
    },
    {
      "cell_type": "code",
      "execution_count": null,
      "metadata": {
        "colab": {
          "base_uri": "https://localhost:8080/",
          "height": 81
        },
        "id": "LaNeGSsGQh4D",
        "outputId": "8601940f-61f1-414b-fc51-51ce82cae794"
      },
      "outputs": [
        {
          "output_type": "execute_result",
          "data": {
            "text/plain": [
              "     manufacturer  price number_available_in_stock number_of_reviews  \\\n",
              "9217  Paul Lamond  £7.99                    10 new                 1   \n",
              "\n",
              "      number_of_answered_questions average_review_rating  \\\n",
              "9217                           5.0    5.0 out of 5 stars   \n",
              "\n",
              "     amazon_category_and_sub_category  \n",
              "9217    Games > Dominoes & Tile Games  "
            ],
            "text/html": [
              "\n",
              "  <div id=\"df-b19fdabf-5b25-461e-90f2-5112a94ad31d\">\n",
              "    <div class=\"colab-df-container\">\n",
              "      <div>\n",
              "<style scoped>\n",
              "    .dataframe tbody tr th:only-of-type {\n",
              "        vertical-align: middle;\n",
              "    }\n",
              "\n",
              "    .dataframe tbody tr th {\n",
              "        vertical-align: top;\n",
              "    }\n",
              "\n",
              "    .dataframe thead th {\n",
              "        text-align: right;\n",
              "    }\n",
              "</style>\n",
              "<table border=\"1\" class=\"dataframe\">\n",
              "  <thead>\n",
              "    <tr style=\"text-align: right;\">\n",
              "      <th></th>\n",
              "      <th>manufacturer</th>\n",
              "      <th>price</th>\n",
              "      <th>number_available_in_stock</th>\n",
              "      <th>number_of_reviews</th>\n",
              "      <th>number_of_answered_questions</th>\n",
              "      <th>average_review_rating</th>\n",
              "      <th>amazon_category_and_sub_category</th>\n",
              "    </tr>\n",
              "  </thead>\n",
              "  <tbody>\n",
              "    <tr>\n",
              "      <th>9217</th>\n",
              "      <td>Paul Lamond</td>\n",
              "      <td>£7.99</td>\n",
              "      <td>10 new</td>\n",
              "      <td>1</td>\n",
              "      <td>5.0</td>\n",
              "      <td>5.0 out of 5 stars</td>\n",
              "      <td>Games &gt; Dominoes &amp; Tile Games</td>\n",
              "    </tr>\n",
              "  </tbody>\n",
              "</table>\n",
              "</div>\n",
              "      <button class=\"colab-df-convert\" onclick=\"convertToInteractive('df-b19fdabf-5b25-461e-90f2-5112a94ad31d')\"\n",
              "              title=\"Convert this dataframe to an interactive table.\"\n",
              "              style=\"display:none;\">\n",
              "        \n",
              "  <svg xmlns=\"http://www.w3.org/2000/svg\" height=\"24px\"viewBox=\"0 0 24 24\"\n",
              "       width=\"24px\">\n",
              "    <path d=\"M0 0h24v24H0V0z\" fill=\"none\"/>\n",
              "    <path d=\"M18.56 5.44l.94 2.06.94-2.06 2.06-.94-2.06-.94-.94-2.06-.94 2.06-2.06.94zm-11 1L8.5 8.5l.94-2.06 2.06-.94-2.06-.94L8.5 2.5l-.94 2.06-2.06.94zm10 10l.94 2.06.94-2.06 2.06-.94-2.06-.94-.94-2.06-.94 2.06-2.06.94z\"/><path d=\"M17.41 7.96l-1.37-1.37c-.4-.4-.92-.59-1.43-.59-.52 0-1.04.2-1.43.59L10.3 9.45l-7.72 7.72c-.78.78-.78 2.05 0 2.83L4 21.41c.39.39.9.59 1.41.59.51 0 1.02-.2 1.41-.59l7.78-7.78 2.81-2.81c.8-.78.8-2.07 0-2.86zM5.41 20L4 18.59l7.72-7.72 1.47 1.35L5.41 20z\"/>\n",
              "  </svg>\n",
              "      </button>\n",
              "      \n",
              "  <style>\n",
              "    .colab-df-container {\n",
              "      display:flex;\n",
              "      flex-wrap:wrap;\n",
              "      gap: 12px;\n",
              "    }\n",
              "\n",
              "    .colab-df-convert {\n",
              "      background-color: #E8F0FE;\n",
              "      border: none;\n",
              "      border-radius: 50%;\n",
              "      cursor: pointer;\n",
              "      display: none;\n",
              "      fill: #1967D2;\n",
              "      height: 32px;\n",
              "      padding: 0 0 0 0;\n",
              "      width: 32px;\n",
              "    }\n",
              "\n",
              "    .colab-df-convert:hover {\n",
              "      background-color: #E2EBFA;\n",
              "      box-shadow: 0px 1px 2px rgba(60, 64, 67, 0.3), 0px 1px 3px 1px rgba(60, 64, 67, 0.15);\n",
              "      fill: #174EA6;\n",
              "    }\n",
              "\n",
              "    [theme=dark] .colab-df-convert {\n",
              "      background-color: #3B4455;\n",
              "      fill: #D2E3FC;\n",
              "    }\n",
              "\n",
              "    [theme=dark] .colab-df-convert:hover {\n",
              "      background-color: #434B5C;\n",
              "      box-shadow: 0px 1px 3px 1px rgba(0, 0, 0, 0.15);\n",
              "      filter: drop-shadow(0px 1px 2px rgba(0, 0, 0, 0.3));\n",
              "      fill: #FFFFFF;\n",
              "    }\n",
              "  </style>\n",
              "\n",
              "      <script>\n",
              "        const buttonEl =\n",
              "          document.querySelector('#df-b19fdabf-5b25-461e-90f2-5112a94ad31d button.colab-df-convert');\n",
              "        buttonEl.style.display =\n",
              "          google.colab.kernel.accessAllowed ? 'block' : 'none';\n",
              "\n",
              "        async function convertToInteractive(key) {\n",
              "          const element = document.querySelector('#df-b19fdabf-5b25-461e-90f2-5112a94ad31d');\n",
              "          const dataTable =\n",
              "            await google.colab.kernel.invokeFunction('convertToInteractive',\n",
              "                                                     [key], {});\n",
              "          if (!dataTable) return;\n",
              "\n",
              "          const docLinkHtml = 'Like what you see? Visit the ' +\n",
              "            '<a target=\"_blank\" href=https://colab.research.google.com/notebooks/data_table.ipynb>data table notebook</a>'\n",
              "            + ' to learn more about interactive tables.';\n",
              "          element.innerHTML = '';\n",
              "          dataTable['output_type'] = 'display_data';\n",
              "          await google.colab.output.renderOutput(dataTable, element);\n",
              "          const docLink = document.createElement('div');\n",
              "          docLink.innerHTML = docLinkHtml;\n",
              "          element.appendChild(docLink);\n",
              "        }\n",
              "      </script>\n",
              "    </div>\n",
              "  </div>\n",
              "  "
            ]
          },
          "metadata": {},
          "execution_count": 609
        }
      ],
      "source": [
        "df.sample()"
      ]
    },
    {
      "cell_type": "markdown",
      "metadata": {
        "id": "O59k78A8C_yP"
      },
      "source": [
        "## Очистка данных (1 балл)\n",
        "\n",
        "Посмотрите на признаки. Есть ли в них пропуски? Какое соотношение между NaN'ами и общим количеством данных? Есть ли смысл выкидывать какие-либо данные из этого датасета?"
      ]
    },
    {
      "cell_type": "code",
      "execution_count": null,
      "metadata": {
        "colab": {
          "base_uri": "https://localhost:8080/"
        },
        "id": "1Kls4H88RVB7",
        "outputId": "3ef12d7c-0a62-470c-9fba-4900070df2e1"
      },
      "outputs": [
        {
          "output_type": "stream",
          "name": "stdout",
          "text": [
            "manufacturer                           7\n",
            "price                               1435\n",
            "number_available_in_stock           2500\n",
            "number_of_reviews                     18\n",
            "number_of_answered_questions         765\n",
            "average_review_rating                 18\n",
            "amazon_category_and_sub_category     690\n",
            "dtype: int64\n",
            "5433\n",
            "Percent of space cells:\n",
            "0.07761428571428572\n"
          ]
        }
      ],
      "source": [
        "number_of_spaces=df.isnull().sum()\n",
        "all_cels=df.size\n",
        "print(number_of_spaces)\n",
        "all_num_of_spaces=number_of_spaces.sum()\n",
        "print(all_num_of_spaces)\n",
        "print(\"Percent of space cells:\")\n",
        "print(all_num_of_spaces/all_cels)"
      ]
    },
    {
      "cell_type": "markdown",
      "metadata": {
        "id": "_lnL_ZZ8SteL"
      },
      "source": [
        "В теории,мы можем удалить колонку, где больше всего(2500>50%) незаполненных клеток, т.к. скорее всего данный признак не особо будет влиять на что-либо.\n",
        "\n"
      ]
    },
    {
      "cell_type": "code",
      "execution_count": null,
      "metadata": {
        "id": "-ivwOv6GTZIj"
      },
      "outputs": [],
      "source": [
        "df = df.drop(columns = ['number_available_in_stock'])\n",
        "\n"
      ]
    },
    {
      "cell_type": "code",
      "execution_count": null,
      "metadata": {
        "colab": {
          "base_uri": "https://localhost:8080/"
        },
        "id": "_J0NuQb9f8L3",
        "outputId": "23e0b8c7-3688-45ed-9309-cf7de09597c5"
      },
      "outputs": [
        {
          "output_type": "stream",
          "name": "stdout",
          "text": [
            "2933\n",
            "manufacturer                           7\n",
            "price                               1435\n",
            "number_of_reviews                     18\n",
            "number_of_answered_questions         765\n",
            "average_review_rating                 18\n",
            "amazon_category_and_sub_category     690\n",
            "dtype: int64\n"
          ]
        }
      ],
      "source": [
        "print(df.isnull().sum().sum())\n",
        "print(df.isnull().sum())\n"
      ]
    },
    {
      "cell_type": "markdown",
      "metadata": {
        "id": "eH688KdZDdKY"
      },
      "source": [
        "## Подготовка данных (3 балла)\n",
        "\n",
        "Обработайте признаки. Выполните кодирование категориальных признаков, заполните пропуски в числовых признаках. Обратите внимание, что в датасете есть признак, который разбивается на несколько подпризнаков. Что это за признак? Закодируйте и его.\n",
        "\n",
        "Дополнительные вопросы (+ 1 балл):\n",
        "- Какие из признаков в этом датасете лучше кодировать через ordinal encoding?\n",
        "- Какие из признаков допустимо кодировать через one-hot?\n",
        "\n",
        "Прим.: суммарно за эту секцию можно получить до 4 баллов."
      ]
    },
    {
      "cell_type": "code",
      "execution_count": null,
      "metadata": {
        "colab": {
          "base_uri": "https://localhost:8080/",
          "height": 206
        },
        "id": "8OT-jtzbX06B",
        "outputId": "5f482fb0-2071-4641-a344-f03bd314a964"
      },
      "outputs": [
        {
          "output_type": "execute_result",
          "data": {
            "text/plain": [
              "  manufacturer   price number_of_reviews  number_of_answered_questions  \\\n",
              "0       Hornby   £3.42                15                           1.0   \n",
              "1    FunkyBuys  £16.99                 2                           1.0   \n",
              "2          ccf   £9.99                17                           2.0   \n",
              "3       Hornby  £39.99                 1                           2.0   \n",
              "4       Hornby  £32.19                 3                           2.0   \n",
              "\n",
              "  average_review_rating                   amazon_category_and_sub_category  \n",
              "0    4.9 out of 5 stars  Hobbies > Model Trains & Railway Sets > Rail V...  \n",
              "1    4.5 out of 5 stars  Hobbies > Model Trains & Railway Sets > Rail V...  \n",
              "2    3.9 out of 5 stars  Hobbies > Model Trains & Railway Sets > Rail V...  \n",
              "3    5.0 out of 5 stars  Hobbies > Model Trains & Railway Sets > Rail V...  \n",
              "4    4.7 out of 5 stars  Hobbies > Model Trains & Railway Sets > Rail V...  "
            ],
            "text/html": [
              "\n",
              "  <div id=\"df-b12f19b8-6437-4b22-aedf-ebc502204e32\">\n",
              "    <div class=\"colab-df-container\">\n",
              "      <div>\n",
              "<style scoped>\n",
              "    .dataframe tbody tr th:only-of-type {\n",
              "        vertical-align: middle;\n",
              "    }\n",
              "\n",
              "    .dataframe tbody tr th {\n",
              "        vertical-align: top;\n",
              "    }\n",
              "\n",
              "    .dataframe thead th {\n",
              "        text-align: right;\n",
              "    }\n",
              "</style>\n",
              "<table border=\"1\" class=\"dataframe\">\n",
              "  <thead>\n",
              "    <tr style=\"text-align: right;\">\n",
              "      <th></th>\n",
              "      <th>manufacturer</th>\n",
              "      <th>price</th>\n",
              "      <th>number_of_reviews</th>\n",
              "      <th>number_of_answered_questions</th>\n",
              "      <th>average_review_rating</th>\n",
              "      <th>amazon_category_and_sub_category</th>\n",
              "    </tr>\n",
              "  </thead>\n",
              "  <tbody>\n",
              "    <tr>\n",
              "      <th>0</th>\n",
              "      <td>Hornby</td>\n",
              "      <td>£3.42</td>\n",
              "      <td>15</td>\n",
              "      <td>1.0</td>\n",
              "      <td>4.9 out of 5 stars</td>\n",
              "      <td>Hobbies &gt; Model Trains &amp; Railway Sets &gt; Rail V...</td>\n",
              "    </tr>\n",
              "    <tr>\n",
              "      <th>1</th>\n",
              "      <td>FunkyBuys</td>\n",
              "      <td>£16.99</td>\n",
              "      <td>2</td>\n",
              "      <td>1.0</td>\n",
              "      <td>4.5 out of 5 stars</td>\n",
              "      <td>Hobbies &gt; Model Trains &amp; Railway Sets &gt; Rail V...</td>\n",
              "    </tr>\n",
              "    <tr>\n",
              "      <th>2</th>\n",
              "      <td>ccf</td>\n",
              "      <td>£9.99</td>\n",
              "      <td>17</td>\n",
              "      <td>2.0</td>\n",
              "      <td>3.9 out of 5 stars</td>\n",
              "      <td>Hobbies &gt; Model Trains &amp; Railway Sets &gt; Rail V...</td>\n",
              "    </tr>\n",
              "    <tr>\n",
              "      <th>3</th>\n",
              "      <td>Hornby</td>\n",
              "      <td>£39.99</td>\n",
              "      <td>1</td>\n",
              "      <td>2.0</td>\n",
              "      <td>5.0 out of 5 stars</td>\n",
              "      <td>Hobbies &gt; Model Trains &amp; Railway Sets &gt; Rail V...</td>\n",
              "    </tr>\n",
              "    <tr>\n",
              "      <th>4</th>\n",
              "      <td>Hornby</td>\n",
              "      <td>£32.19</td>\n",
              "      <td>3</td>\n",
              "      <td>2.0</td>\n",
              "      <td>4.7 out of 5 stars</td>\n",
              "      <td>Hobbies &gt; Model Trains &amp; Railway Sets &gt; Rail V...</td>\n",
              "    </tr>\n",
              "  </tbody>\n",
              "</table>\n",
              "</div>\n",
              "      <button class=\"colab-df-convert\" onclick=\"convertToInteractive('df-b12f19b8-6437-4b22-aedf-ebc502204e32')\"\n",
              "              title=\"Convert this dataframe to an interactive table.\"\n",
              "              style=\"display:none;\">\n",
              "        \n",
              "  <svg xmlns=\"http://www.w3.org/2000/svg\" height=\"24px\"viewBox=\"0 0 24 24\"\n",
              "       width=\"24px\">\n",
              "    <path d=\"M0 0h24v24H0V0z\" fill=\"none\"/>\n",
              "    <path d=\"M18.56 5.44l.94 2.06.94-2.06 2.06-.94-2.06-.94-.94-2.06-.94 2.06-2.06.94zm-11 1L8.5 8.5l.94-2.06 2.06-.94-2.06-.94L8.5 2.5l-.94 2.06-2.06.94zm10 10l.94 2.06.94-2.06 2.06-.94-2.06-.94-.94-2.06-.94 2.06-2.06.94z\"/><path d=\"M17.41 7.96l-1.37-1.37c-.4-.4-.92-.59-1.43-.59-.52 0-1.04.2-1.43.59L10.3 9.45l-7.72 7.72c-.78.78-.78 2.05 0 2.83L4 21.41c.39.39.9.59 1.41.59.51 0 1.02-.2 1.41-.59l7.78-7.78 2.81-2.81c.8-.78.8-2.07 0-2.86zM5.41 20L4 18.59l7.72-7.72 1.47 1.35L5.41 20z\"/>\n",
              "  </svg>\n",
              "      </button>\n",
              "      \n",
              "  <style>\n",
              "    .colab-df-container {\n",
              "      display:flex;\n",
              "      flex-wrap:wrap;\n",
              "      gap: 12px;\n",
              "    }\n",
              "\n",
              "    .colab-df-convert {\n",
              "      background-color: #E8F0FE;\n",
              "      border: none;\n",
              "      border-radius: 50%;\n",
              "      cursor: pointer;\n",
              "      display: none;\n",
              "      fill: #1967D2;\n",
              "      height: 32px;\n",
              "      padding: 0 0 0 0;\n",
              "      width: 32px;\n",
              "    }\n",
              "\n",
              "    .colab-df-convert:hover {\n",
              "      background-color: #E2EBFA;\n",
              "      box-shadow: 0px 1px 2px rgba(60, 64, 67, 0.3), 0px 1px 3px 1px rgba(60, 64, 67, 0.15);\n",
              "      fill: #174EA6;\n",
              "    }\n",
              "\n",
              "    [theme=dark] .colab-df-convert {\n",
              "      background-color: #3B4455;\n",
              "      fill: #D2E3FC;\n",
              "    }\n",
              "\n",
              "    [theme=dark] .colab-df-convert:hover {\n",
              "      background-color: #434B5C;\n",
              "      box-shadow: 0px 1px 3px 1px rgba(0, 0, 0, 0.15);\n",
              "      filter: drop-shadow(0px 1px 2px rgba(0, 0, 0, 0.3));\n",
              "      fill: #FFFFFF;\n",
              "    }\n",
              "  </style>\n",
              "\n",
              "      <script>\n",
              "        const buttonEl =\n",
              "          document.querySelector('#df-b12f19b8-6437-4b22-aedf-ebc502204e32 button.colab-df-convert');\n",
              "        buttonEl.style.display =\n",
              "          google.colab.kernel.accessAllowed ? 'block' : 'none';\n",
              "\n",
              "        async function convertToInteractive(key) {\n",
              "          const element = document.querySelector('#df-b12f19b8-6437-4b22-aedf-ebc502204e32');\n",
              "          const dataTable =\n",
              "            await google.colab.kernel.invokeFunction('convertToInteractive',\n",
              "                                                     [key], {});\n",
              "          if (!dataTable) return;\n",
              "\n",
              "          const docLinkHtml = 'Like what you see? Visit the ' +\n",
              "            '<a target=\"_blank\" href=https://colab.research.google.com/notebooks/data_table.ipynb>data table notebook</a>'\n",
              "            + ' to learn more about interactive tables.';\n",
              "          element.innerHTML = '';\n",
              "          dataTable['output_type'] = 'display_data';\n",
              "          await google.colab.output.renderOutput(dataTable, element);\n",
              "          const docLink = document.createElement('div');\n",
              "          docLink.innerHTML = docLinkHtml;\n",
              "          element.appendChild(docLink);\n",
              "        }\n",
              "      </script>\n",
              "    </div>\n",
              "  </div>\n",
              "  "
            ]
          },
          "metadata": {},
          "execution_count": 613
        }
      ],
      "source": [
        "\n",
        "df.head()"
      ]
    },
    {
      "cell_type": "code",
      "execution_count": null,
      "metadata": {
        "colab": {
          "base_uri": "https://localhost:8080/",
          "height": 81
        },
        "id": "ifnjatF6ZMvy",
        "outputId": "00c15c0d-5a05-4e79-e973-3c3e2229de19"
      },
      "outputs": [
        {
          "output_type": "execute_result",
          "data": {
            "text/plain": [
              "        manufacturer  price number_of_reviews  number_of_answered_questions  \\\n",
              "2847  farmyard party  £4.27                 1                           NaN   \n",
              "\n",
              "     average_review_rating         amazon_category_and_sub_category  \n",
              "2847    5.0 out of 5 stars  Party Supplies > Decorations > Balloons  "
            ],
            "text/html": [
              "\n",
              "  <div id=\"df-9fc3775a-399e-415a-b359-f2e2fbb4e797\">\n",
              "    <div class=\"colab-df-container\">\n",
              "      <div>\n",
              "<style scoped>\n",
              "    .dataframe tbody tr th:only-of-type {\n",
              "        vertical-align: middle;\n",
              "    }\n",
              "\n",
              "    .dataframe tbody tr th {\n",
              "        vertical-align: top;\n",
              "    }\n",
              "\n",
              "    .dataframe thead th {\n",
              "        text-align: right;\n",
              "    }\n",
              "</style>\n",
              "<table border=\"1\" class=\"dataframe\">\n",
              "  <thead>\n",
              "    <tr style=\"text-align: right;\">\n",
              "      <th></th>\n",
              "      <th>manufacturer</th>\n",
              "      <th>price</th>\n",
              "      <th>number_of_reviews</th>\n",
              "      <th>number_of_answered_questions</th>\n",
              "      <th>average_review_rating</th>\n",
              "      <th>amazon_category_and_sub_category</th>\n",
              "    </tr>\n",
              "  </thead>\n",
              "  <tbody>\n",
              "    <tr>\n",
              "      <th>2847</th>\n",
              "      <td>farmyard party</td>\n",
              "      <td>£4.27</td>\n",
              "      <td>1</td>\n",
              "      <td>NaN</td>\n",
              "      <td>5.0 out of 5 stars</td>\n",
              "      <td>Party Supplies &gt; Decorations &gt; Balloons</td>\n",
              "    </tr>\n",
              "  </tbody>\n",
              "</table>\n",
              "</div>\n",
              "      <button class=\"colab-df-convert\" onclick=\"convertToInteractive('df-9fc3775a-399e-415a-b359-f2e2fbb4e797')\"\n",
              "              title=\"Convert this dataframe to an interactive table.\"\n",
              "              style=\"display:none;\">\n",
              "        \n",
              "  <svg xmlns=\"http://www.w3.org/2000/svg\" height=\"24px\"viewBox=\"0 0 24 24\"\n",
              "       width=\"24px\">\n",
              "    <path d=\"M0 0h24v24H0V0z\" fill=\"none\"/>\n",
              "    <path d=\"M18.56 5.44l.94 2.06.94-2.06 2.06-.94-2.06-.94-.94-2.06-.94 2.06-2.06.94zm-11 1L8.5 8.5l.94-2.06 2.06-.94-2.06-.94L8.5 2.5l-.94 2.06-2.06.94zm10 10l.94 2.06.94-2.06 2.06-.94-2.06-.94-.94-2.06-.94 2.06-2.06.94z\"/><path d=\"M17.41 7.96l-1.37-1.37c-.4-.4-.92-.59-1.43-.59-.52 0-1.04.2-1.43.59L10.3 9.45l-7.72 7.72c-.78.78-.78 2.05 0 2.83L4 21.41c.39.39.9.59 1.41.59.51 0 1.02-.2 1.41-.59l7.78-7.78 2.81-2.81c.8-.78.8-2.07 0-2.86zM5.41 20L4 18.59l7.72-7.72 1.47 1.35L5.41 20z\"/>\n",
              "  </svg>\n",
              "      </button>\n",
              "      \n",
              "  <style>\n",
              "    .colab-df-container {\n",
              "      display:flex;\n",
              "      flex-wrap:wrap;\n",
              "      gap: 12px;\n",
              "    }\n",
              "\n",
              "    .colab-df-convert {\n",
              "      background-color: #E8F0FE;\n",
              "      border: none;\n",
              "      border-radius: 50%;\n",
              "      cursor: pointer;\n",
              "      display: none;\n",
              "      fill: #1967D2;\n",
              "      height: 32px;\n",
              "      padding: 0 0 0 0;\n",
              "      width: 32px;\n",
              "    }\n",
              "\n",
              "    .colab-df-convert:hover {\n",
              "      background-color: #E2EBFA;\n",
              "      box-shadow: 0px 1px 2px rgba(60, 64, 67, 0.3), 0px 1px 3px 1px rgba(60, 64, 67, 0.15);\n",
              "      fill: #174EA6;\n",
              "    }\n",
              "\n",
              "    [theme=dark] .colab-df-convert {\n",
              "      background-color: #3B4455;\n",
              "      fill: #D2E3FC;\n",
              "    }\n",
              "\n",
              "    [theme=dark] .colab-df-convert:hover {\n",
              "      background-color: #434B5C;\n",
              "      box-shadow: 0px 1px 3px 1px rgba(0, 0, 0, 0.15);\n",
              "      filter: drop-shadow(0px 1px 2px rgba(0, 0, 0, 0.3));\n",
              "      fill: #FFFFFF;\n",
              "    }\n",
              "  </style>\n",
              "\n",
              "      <script>\n",
              "        const buttonEl =\n",
              "          document.querySelector('#df-9fc3775a-399e-415a-b359-f2e2fbb4e797 button.colab-df-convert');\n",
              "        buttonEl.style.display =\n",
              "          google.colab.kernel.accessAllowed ? 'block' : 'none';\n",
              "\n",
              "        async function convertToInteractive(key) {\n",
              "          const element = document.querySelector('#df-9fc3775a-399e-415a-b359-f2e2fbb4e797');\n",
              "          const dataTable =\n",
              "            await google.colab.kernel.invokeFunction('convertToInteractive',\n",
              "                                                     [key], {});\n",
              "          if (!dataTable) return;\n",
              "\n",
              "          const docLinkHtml = 'Like what you see? Visit the ' +\n",
              "            '<a target=\"_blank\" href=https://colab.research.google.com/notebooks/data_table.ipynb>data table notebook</a>'\n",
              "            + ' to learn more about interactive tables.';\n",
              "          element.innerHTML = '';\n",
              "          dataTable['output_type'] = 'display_data';\n",
              "          await google.colab.output.renderOutput(dataTable, element);\n",
              "          const docLink = document.createElement('div');\n",
              "          docLink.innerHTML = docLinkHtml;\n",
              "          element.appendChild(docLink);\n",
              "        }\n",
              "      </script>\n",
              "    </div>\n",
              "  </div>\n",
              "  "
            ]
          },
          "metadata": {},
          "execution_count": 614
        }
      ],
      "source": [
        "df.sample()"
      ]
    },
    {
      "cell_type": "markdown",
      "source": [
        "Хочется перевести многие данные, содержащие в себе строки и числа с плавающей запятой, к типу float. "
      ],
      "metadata": {
        "id": "FBttzY4vKIA4"
      }
    },
    {
      "cell_type": "code",
      "execution_count": null,
      "metadata": {
        "id": "x3DLU9t2km9P"
      },
      "outputs": [],
      "source": [
        "\n",
        "def to_float_string(string):\n",
        "   string = string.replace(',', '')#для правильной интерпретации чисел с запятыми,отделяющие целочисленные разряды(тысячи и т.д.)\n",
        "   return float(string)\n",
        "\n",
        "    \n",
        "    \n"
      ]
    },
    {
      "cell_type": "markdown",
      "source": [
        "Существуют особенности перевода цен в float - может быть Nan вместо цены или указан диапазон =>  все эти варианты надо отработать."
      ],
      "metadata": {
        "id": "DPYsrypyLN94"
      }
    },
    {
      "cell_type": "code",
      "source": [
        "\n",
        "for a in range(0, len(df.price)):\n",
        "  if (isinstance(df.price[a], str)):\n",
        "    if (len(df.price[a].split('-')) == 1):\n",
        "      df.price[a] = to_float_string(df.price[a][1:])\n",
        "    else:\n",
        "      df.price[a] = (to_float_string(df.price[a].split('- ')[0][1:]) + to_float_string(df.price[a].split('- ')[1][1:]))/2\n",
        "  else:\n",
        "    df.price[a] = 0"
      ],
      "metadata": {
        "colab": {
          "base_uri": "https://localhost:8080/"
        },
        "id": "AsQe3YaTLhlQ",
        "outputId": "ece10bad-c9db-445d-ad9e-7162337645e4"
      },
      "execution_count": null,
      "outputs": [
        {
          "output_type": "stream",
          "name": "stderr",
          "text": [
            "<ipython-input-616-13e528f696c8>:4: SettingWithCopyWarning:\n",
            "\n",
            "\n",
            "A value is trying to be set on a copy of a slice from a DataFrame\n",
            "\n",
            "See the caveats in the documentation: https://pandas.pydata.org/pandas-docs/stable/user_guide/indexing.html#returning-a-view-versus-a-copy\n",
            "\n",
            "<ipython-input-616-13e528f696c8>:8: SettingWithCopyWarning:\n",
            "\n",
            "\n",
            "A value is trying to be set on a copy of a slice from a DataFrame\n",
            "\n",
            "See the caveats in the documentation: https://pandas.pydata.org/pandas-docs/stable/user_guide/indexing.html#returning-a-view-versus-a-copy\n",
            "\n",
            "<ipython-input-616-13e528f696c8>:6: SettingWithCopyWarning:\n",
            "\n",
            "\n",
            "A value is trying to be set on a copy of a slice from a DataFrame\n",
            "\n",
            "See the caveats in the documentation: https://pandas.pydata.org/pandas-docs/stable/user_guide/indexing.html#returning-a-view-versus-a-copy\n",
            "\n"
          ]
        }
      ]
    },
    {
      "cell_type": "markdown",
      "source": [
        "Сходным образом преобразуем и данные в average_review_rating"
      ],
      "metadata": {
        "id": "bBMJR5AkLMyP"
      }
    },
    {
      "cell_type": "code",
      "source": [
        "for a in range(0, len(df.average_review_rating)):\n",
        "  if (isinstance(df.average_review_rating[a], str)):\n",
        "    df.average_review_rating[a] = to_float_string(df.average_review_rating[a].split()[0])\n",
        "  else:\n",
        "    df.average_review_rating[a] = 0"
      ],
      "metadata": {
        "colab": {
          "base_uri": "https://localhost:8080/"
        },
        "id": "27_ME0rVMec3",
        "outputId": "76fa2ad2-a052-4b01-d21e-1366f34c9122"
      },
      "execution_count": null,
      "outputs": [
        {
          "output_type": "stream",
          "name": "stderr",
          "text": [
            "<ipython-input-617-9d17a782bb04>:3: SettingWithCopyWarning:\n",
            "\n",
            "\n",
            "A value is trying to be set on a copy of a slice from a DataFrame\n",
            "\n",
            "See the caveats in the documentation: https://pandas.pydata.org/pandas-docs/stable/user_guide/indexing.html#returning-a-view-versus-a-copy\n",
            "\n",
            "<ipython-input-617-9d17a782bb04>:5: SettingWithCopyWarning:\n",
            "\n",
            "\n",
            "A value is trying to be set on a copy of a slice from a DataFrame\n",
            "\n",
            "See the caveats in the documentation: https://pandas.pydata.org/pandas-docs/stable/user_guide/indexing.html#returning-a-view-versus-a-copy\n",
            "\n"
          ]
        }
      ]
    },
    {
      "cell_type": "markdown",
      "source": [
        "Производители - очень хорошие люди, но столбец с ними нам не нужен в датасете - удалим \n"
      ],
      "metadata": {
        "id": "1pR1IMAsMsLY"
      }
    },
    {
      "cell_type": "code",
      "source": [
        "df = df.drop(columns = ['manufacturer'])"
      ],
      "metadata": {
        "id": "kmB1j3kgNFMH"
      },
      "execution_count": null,
      "outputs": []
    },
    {
      "cell_type": "markdown",
      "source": [
        "Закодируем информацию о категориях и факторизуем ее"
      ],
      "metadata": {
        "id": "oa_60OskNhcf"
      }
    },
    {
      "cell_type": "code",
      "source": [
        "nwdf = df.amazon_category_and_sub_category.str.split(' > ', expand=True) \n",
        "nwdf.columns=['sub_category_0','sub_category_1','sub_category_2', 'sub_category_3', 'sub_category_4']#Новый df с закодированными категориям\n",
        "\n",
        "fin_df = pd.concat([df,nwdf], axis = 1) \n",
        "fin_df =fin_df.drop(columns = ['amazon_category_and_sub_category'], axis = 1) #Удаляем старый столбец\n",
        "\n",
        "df = fin_df\n",
        "df.sub_category_0 = pd.factorize(df.sub_category_0)[0] + 1\n",
        "df.sub_category_1 = pd.factorize(df.sub_category_1)[0] + 1\n",
        "df.sub_category_2 = pd.factorize(df.sub_category_2)[0] + 1\n",
        "df.sub_category_3 = pd.factorize(df.sub_category_3)[0] + 1\n",
        "df.sub_category_4 = pd.factorize(df.sub_category_4)[0] + 1"
      ],
      "metadata": {
        "id": "DmlmyFRoNhBH"
      },
      "execution_count": null,
      "outputs": []
    },
    {
      "cell_type": "code",
      "execution_count": null,
      "metadata": {
        "colab": {
          "base_uri": "https://localhost:8080/",
          "height": 81
        },
        "id": "SSHvjdf3t-kt",
        "outputId": "59b6d52e-7992-443d-b333-9fbdd61b8ef9"
      },
      "outputs": [
        {
          "output_type": "execute_result",
          "data": {
            "text/plain": [
              "    price number_of_reviews  number_of_answered_questions  \\\n",
              "834     0                 1                           1.0   \n",
              "\n",
              "    average_review_rating  sub_category_0  sub_category_1  sub_category_2  \\\n",
              "834                   5.0              12              24              10   \n",
              "\n",
              "     sub_category_3  sub_category_4  \n",
              "834              12               0  "
            ],
            "text/html": [
              "\n",
              "  <div id=\"df-41da71e7-a840-49f4-aad2-c84551ffec51\">\n",
              "    <div class=\"colab-df-container\">\n",
              "      <div>\n",
              "<style scoped>\n",
              "    .dataframe tbody tr th:only-of-type {\n",
              "        vertical-align: middle;\n",
              "    }\n",
              "\n",
              "    .dataframe tbody tr th {\n",
              "        vertical-align: top;\n",
              "    }\n",
              "\n",
              "    .dataframe thead th {\n",
              "        text-align: right;\n",
              "    }\n",
              "</style>\n",
              "<table border=\"1\" class=\"dataframe\">\n",
              "  <thead>\n",
              "    <tr style=\"text-align: right;\">\n",
              "      <th></th>\n",
              "      <th>price</th>\n",
              "      <th>number_of_reviews</th>\n",
              "      <th>number_of_answered_questions</th>\n",
              "      <th>average_review_rating</th>\n",
              "      <th>sub_category_0</th>\n",
              "      <th>sub_category_1</th>\n",
              "      <th>sub_category_2</th>\n",
              "      <th>sub_category_3</th>\n",
              "      <th>sub_category_4</th>\n",
              "    </tr>\n",
              "  </thead>\n",
              "  <tbody>\n",
              "    <tr>\n",
              "      <th>834</th>\n",
              "      <td>0</td>\n",
              "      <td>1</td>\n",
              "      <td>1.0</td>\n",
              "      <td>5.0</td>\n",
              "      <td>12</td>\n",
              "      <td>24</td>\n",
              "      <td>10</td>\n",
              "      <td>12</td>\n",
              "      <td>0</td>\n",
              "    </tr>\n",
              "  </tbody>\n",
              "</table>\n",
              "</div>\n",
              "      <button class=\"colab-df-convert\" onclick=\"convertToInteractive('df-41da71e7-a840-49f4-aad2-c84551ffec51')\"\n",
              "              title=\"Convert this dataframe to an interactive table.\"\n",
              "              style=\"display:none;\">\n",
              "        \n",
              "  <svg xmlns=\"http://www.w3.org/2000/svg\" height=\"24px\"viewBox=\"0 0 24 24\"\n",
              "       width=\"24px\">\n",
              "    <path d=\"M0 0h24v24H0V0z\" fill=\"none\"/>\n",
              "    <path d=\"M18.56 5.44l.94 2.06.94-2.06 2.06-.94-2.06-.94-.94-2.06-.94 2.06-2.06.94zm-11 1L8.5 8.5l.94-2.06 2.06-.94-2.06-.94L8.5 2.5l-.94 2.06-2.06.94zm10 10l.94 2.06.94-2.06 2.06-.94-2.06-.94-.94-2.06-.94 2.06-2.06.94z\"/><path d=\"M17.41 7.96l-1.37-1.37c-.4-.4-.92-.59-1.43-.59-.52 0-1.04.2-1.43.59L10.3 9.45l-7.72 7.72c-.78.78-.78 2.05 0 2.83L4 21.41c.39.39.9.59 1.41.59.51 0 1.02-.2 1.41-.59l7.78-7.78 2.81-2.81c.8-.78.8-2.07 0-2.86zM5.41 20L4 18.59l7.72-7.72 1.47 1.35L5.41 20z\"/>\n",
              "  </svg>\n",
              "      </button>\n",
              "      \n",
              "  <style>\n",
              "    .colab-df-container {\n",
              "      display:flex;\n",
              "      flex-wrap:wrap;\n",
              "      gap: 12px;\n",
              "    }\n",
              "\n",
              "    .colab-df-convert {\n",
              "      background-color: #E8F0FE;\n",
              "      border: none;\n",
              "      border-radius: 50%;\n",
              "      cursor: pointer;\n",
              "      display: none;\n",
              "      fill: #1967D2;\n",
              "      height: 32px;\n",
              "      padding: 0 0 0 0;\n",
              "      width: 32px;\n",
              "    }\n",
              "\n",
              "    .colab-df-convert:hover {\n",
              "      background-color: #E2EBFA;\n",
              "      box-shadow: 0px 1px 2px rgba(60, 64, 67, 0.3), 0px 1px 3px 1px rgba(60, 64, 67, 0.15);\n",
              "      fill: #174EA6;\n",
              "    }\n",
              "\n",
              "    [theme=dark] .colab-df-convert {\n",
              "      background-color: #3B4455;\n",
              "      fill: #D2E3FC;\n",
              "    }\n",
              "\n",
              "    [theme=dark] .colab-df-convert:hover {\n",
              "      background-color: #434B5C;\n",
              "      box-shadow: 0px 1px 3px 1px rgba(0, 0, 0, 0.15);\n",
              "      filter: drop-shadow(0px 1px 2px rgba(0, 0, 0, 0.3));\n",
              "      fill: #FFFFFF;\n",
              "    }\n",
              "  </style>\n",
              "\n",
              "      <script>\n",
              "        const buttonEl =\n",
              "          document.querySelector('#df-41da71e7-a840-49f4-aad2-c84551ffec51 button.colab-df-convert');\n",
              "        buttonEl.style.display =\n",
              "          google.colab.kernel.accessAllowed ? 'block' : 'none';\n",
              "\n",
              "        async function convertToInteractive(key) {\n",
              "          const element = document.querySelector('#df-41da71e7-a840-49f4-aad2-c84551ffec51');\n",
              "          const dataTable =\n",
              "            await google.colab.kernel.invokeFunction('convertToInteractive',\n",
              "                                                     [key], {});\n",
              "          if (!dataTable) return;\n",
              "\n",
              "          const docLinkHtml = 'Like what you see? Visit the ' +\n",
              "            '<a target=\"_blank\" href=https://colab.research.google.com/notebooks/data_table.ipynb>data table notebook</a>'\n",
              "            + ' to learn more about interactive tables.';\n",
              "          element.innerHTML = '';\n",
              "          dataTable['output_type'] = 'display_data';\n",
              "          await google.colab.output.renderOutput(dataTable, element);\n",
              "          const docLink = document.createElement('div');\n",
              "          docLink.innerHTML = docLinkHtml;\n",
              "          element.appendChild(docLink);\n",
              "        }\n",
              "      </script>\n",
              "    </div>\n",
              "  </div>\n",
              "  "
            ]
          },
          "metadata": {},
          "execution_count": 620
        }
      ],
      "source": [
        "df.sample()"
      ]
    },
    {
      "cell_type": "markdown",
      "source": [
        "Подчистим пропуски и преобразуем во float незатронутый number_of_reviews"
      ],
      "metadata": {
        "id": "m1jguL5fOaBW"
      }
    },
    {
      "cell_type": "code",
      "source": [
        "df = df.fillna(0)"
      ],
      "metadata": {
        "id": "zcQr2DVcObx_"
      },
      "execution_count": null,
      "outputs": []
    },
    {
      "cell_type": "code",
      "source": [
        "for a in range(0, len(df.price)):\n",
        "  if (isinstance(df.number_of_reviews[a], str)):\n",
        "    df.number_of_reviews[a] = to_float_string(df.number_of_reviews[a])\n",
        "  if (isinstance(df.number_of_answered_questions[a], str)):\n",
        "    df.number_of_answered_questions[a] = to_float_string(df.number_of_answered_questions[a])"
      ],
      "metadata": {
        "colab": {
          "base_uri": "https://localhost:8080/"
        },
        "id": "JpULAjRhOrpf",
        "outputId": "595bf3ed-54b9-4e84-f408-82826a2af6fb"
      },
      "execution_count": null,
      "outputs": [
        {
          "output_type": "stream",
          "name": "stderr",
          "text": [
            "<ipython-input-622-7e8ccc25ddc0>:3: SettingWithCopyWarning:\n",
            "\n",
            "\n",
            "A value is trying to be set on a copy of a slice from a DataFrame\n",
            "\n",
            "See the caveats in the documentation: https://pandas.pydata.org/pandas-docs/stable/user_guide/indexing.html#returning-a-view-versus-a-copy\n",
            "\n"
          ]
        }
      ]
    },
    {
      "cell_type": "code",
      "source": [
        "df.head()"
      ],
      "metadata": {
        "colab": {
          "base_uri": "https://localhost:8080/",
          "height": 206
        },
        "id": "rG-CV_--O7Ao",
        "outputId": "eff7bccd-0ac1-4c84-c708-9770b6631f22"
      },
      "execution_count": null,
      "outputs": [
        {
          "output_type": "execute_result",
          "data": {
            "text/plain": [
              "   price number_of_reviews  number_of_answered_questions  \\\n",
              "0   3.42              15.0                           1.0   \n",
              "1  16.99               2.0                           1.0   \n",
              "2   9.99              17.0                           2.0   \n",
              "3  39.99               1.0                           2.0   \n",
              "4  32.19               3.0                           2.0   \n",
              "\n",
              "   average_review_rating  sub_category_0  sub_category_1  sub_category_2  \\\n",
              "0                    4.9               1               1               1   \n",
              "1                    4.5               1               1               1   \n",
              "2                    3.9               1               1               1   \n",
              "3                    5.0               1               1               1   \n",
              "4                    4.7               1               1               1   \n",
              "\n",
              "   sub_category_3  sub_category_4  \n",
              "0               1               0  \n",
              "1               1               0  \n",
              "2               1               0  \n",
              "3               1               0  \n",
              "4               1               0  "
            ],
            "text/html": [
              "\n",
              "  <div id=\"df-deb19a34-9e4a-49fd-a483-8917daf38a69\">\n",
              "    <div class=\"colab-df-container\">\n",
              "      <div>\n",
              "<style scoped>\n",
              "    .dataframe tbody tr th:only-of-type {\n",
              "        vertical-align: middle;\n",
              "    }\n",
              "\n",
              "    .dataframe tbody tr th {\n",
              "        vertical-align: top;\n",
              "    }\n",
              "\n",
              "    .dataframe thead th {\n",
              "        text-align: right;\n",
              "    }\n",
              "</style>\n",
              "<table border=\"1\" class=\"dataframe\">\n",
              "  <thead>\n",
              "    <tr style=\"text-align: right;\">\n",
              "      <th></th>\n",
              "      <th>price</th>\n",
              "      <th>number_of_reviews</th>\n",
              "      <th>number_of_answered_questions</th>\n",
              "      <th>average_review_rating</th>\n",
              "      <th>sub_category_0</th>\n",
              "      <th>sub_category_1</th>\n",
              "      <th>sub_category_2</th>\n",
              "      <th>sub_category_3</th>\n",
              "      <th>sub_category_4</th>\n",
              "    </tr>\n",
              "  </thead>\n",
              "  <tbody>\n",
              "    <tr>\n",
              "      <th>0</th>\n",
              "      <td>3.42</td>\n",
              "      <td>15.0</td>\n",
              "      <td>1.0</td>\n",
              "      <td>4.9</td>\n",
              "      <td>1</td>\n",
              "      <td>1</td>\n",
              "      <td>1</td>\n",
              "      <td>1</td>\n",
              "      <td>0</td>\n",
              "    </tr>\n",
              "    <tr>\n",
              "      <th>1</th>\n",
              "      <td>16.99</td>\n",
              "      <td>2.0</td>\n",
              "      <td>1.0</td>\n",
              "      <td>4.5</td>\n",
              "      <td>1</td>\n",
              "      <td>1</td>\n",
              "      <td>1</td>\n",
              "      <td>1</td>\n",
              "      <td>0</td>\n",
              "    </tr>\n",
              "    <tr>\n",
              "      <th>2</th>\n",
              "      <td>9.99</td>\n",
              "      <td>17.0</td>\n",
              "      <td>2.0</td>\n",
              "      <td>3.9</td>\n",
              "      <td>1</td>\n",
              "      <td>1</td>\n",
              "      <td>1</td>\n",
              "      <td>1</td>\n",
              "      <td>0</td>\n",
              "    </tr>\n",
              "    <tr>\n",
              "      <th>3</th>\n",
              "      <td>39.99</td>\n",
              "      <td>1.0</td>\n",
              "      <td>2.0</td>\n",
              "      <td>5.0</td>\n",
              "      <td>1</td>\n",
              "      <td>1</td>\n",
              "      <td>1</td>\n",
              "      <td>1</td>\n",
              "      <td>0</td>\n",
              "    </tr>\n",
              "    <tr>\n",
              "      <th>4</th>\n",
              "      <td>32.19</td>\n",
              "      <td>3.0</td>\n",
              "      <td>2.0</td>\n",
              "      <td>4.7</td>\n",
              "      <td>1</td>\n",
              "      <td>1</td>\n",
              "      <td>1</td>\n",
              "      <td>1</td>\n",
              "      <td>0</td>\n",
              "    </tr>\n",
              "  </tbody>\n",
              "</table>\n",
              "</div>\n",
              "      <button class=\"colab-df-convert\" onclick=\"convertToInteractive('df-deb19a34-9e4a-49fd-a483-8917daf38a69')\"\n",
              "              title=\"Convert this dataframe to an interactive table.\"\n",
              "              style=\"display:none;\">\n",
              "        \n",
              "  <svg xmlns=\"http://www.w3.org/2000/svg\" height=\"24px\"viewBox=\"0 0 24 24\"\n",
              "       width=\"24px\">\n",
              "    <path d=\"M0 0h24v24H0V0z\" fill=\"none\"/>\n",
              "    <path d=\"M18.56 5.44l.94 2.06.94-2.06 2.06-.94-2.06-.94-.94-2.06-.94 2.06-2.06.94zm-11 1L8.5 8.5l.94-2.06 2.06-.94-2.06-.94L8.5 2.5l-.94 2.06-2.06.94zm10 10l.94 2.06.94-2.06 2.06-.94-2.06-.94-.94-2.06-.94 2.06-2.06.94z\"/><path d=\"M17.41 7.96l-1.37-1.37c-.4-.4-.92-.59-1.43-.59-.52 0-1.04.2-1.43.59L10.3 9.45l-7.72 7.72c-.78.78-.78 2.05 0 2.83L4 21.41c.39.39.9.59 1.41.59.51 0 1.02-.2 1.41-.59l7.78-7.78 2.81-2.81c.8-.78.8-2.07 0-2.86zM5.41 20L4 18.59l7.72-7.72 1.47 1.35L5.41 20z\"/>\n",
              "  </svg>\n",
              "      </button>\n",
              "      \n",
              "  <style>\n",
              "    .colab-df-container {\n",
              "      display:flex;\n",
              "      flex-wrap:wrap;\n",
              "      gap: 12px;\n",
              "    }\n",
              "\n",
              "    .colab-df-convert {\n",
              "      background-color: #E8F0FE;\n",
              "      border: none;\n",
              "      border-radius: 50%;\n",
              "      cursor: pointer;\n",
              "      display: none;\n",
              "      fill: #1967D2;\n",
              "      height: 32px;\n",
              "      padding: 0 0 0 0;\n",
              "      width: 32px;\n",
              "    }\n",
              "\n",
              "    .colab-df-convert:hover {\n",
              "      background-color: #E2EBFA;\n",
              "      box-shadow: 0px 1px 2px rgba(60, 64, 67, 0.3), 0px 1px 3px 1px rgba(60, 64, 67, 0.15);\n",
              "      fill: #174EA6;\n",
              "    }\n",
              "\n",
              "    [theme=dark] .colab-df-convert {\n",
              "      background-color: #3B4455;\n",
              "      fill: #D2E3FC;\n",
              "    }\n",
              "\n",
              "    [theme=dark] .colab-df-convert:hover {\n",
              "      background-color: #434B5C;\n",
              "      box-shadow: 0px 1px 3px 1px rgba(0, 0, 0, 0.15);\n",
              "      filter: drop-shadow(0px 1px 2px rgba(0, 0, 0, 0.3));\n",
              "      fill: #FFFFFF;\n",
              "    }\n",
              "  </style>\n",
              "\n",
              "      <script>\n",
              "        const buttonEl =\n",
              "          document.querySelector('#df-deb19a34-9e4a-49fd-a483-8917daf38a69 button.colab-df-convert');\n",
              "        buttonEl.style.display =\n",
              "          google.colab.kernel.accessAllowed ? 'block' : 'none';\n",
              "\n",
              "        async function convertToInteractive(key) {\n",
              "          const element = document.querySelector('#df-deb19a34-9e4a-49fd-a483-8917daf38a69');\n",
              "          const dataTable =\n",
              "            await google.colab.kernel.invokeFunction('convertToInteractive',\n",
              "                                                     [key], {});\n",
              "          if (!dataTable) return;\n",
              "\n",
              "          const docLinkHtml = 'Like what you see? Visit the ' +\n",
              "            '<a target=\"_blank\" href=https://colab.research.google.com/notebooks/data_table.ipynb>data table notebook</a>'\n",
              "            + ' to learn more about interactive tables.';\n",
              "          element.innerHTML = '';\n",
              "          dataTable['output_type'] = 'display_data';\n",
              "          await google.colab.output.renderOutput(dataTable, element);\n",
              "          const docLink = document.createElement('div');\n",
              "          docLink.innerHTML = docLinkHtml;\n",
              "          element.appendChild(docLink);\n",
              "        }\n",
              "      </script>\n",
              "    </div>\n",
              "  </div>\n",
              "  "
            ]
          },
          "metadata": {},
          "execution_count": 623
        }
      ]
    },
    {
      "cell_type": "markdown",
      "metadata": {
        "id": "JTRoUwANEcn9"
      },
      "source": [
        "# Обучение модели (3 балла)"
      ]
    },
    {
      "cell_type": "code",
      "execution_count": null,
      "metadata": {
        "id": "C5YvjcE7lQ_f"
      },
      "outputs": [],
      "source": [
        "from sklearn.model_selection import train_test_split\n",
        "X, y = df.drop(columns=['price']), df[\"price\"]\n",
        "\n",
        "Xtrain, Xtest, Ytrain, Ytest=train_test_split(X, y, train_size=0.7)"
      ]
    },
    {
      "cell_type": "markdown",
      "metadata": {
        "id": "AyVaKKT7FFo5"
      },
      "source": [
        "## Бейзлайн\n",
        "\n",
        "Обучите базовую модель. Для этого используйте `sklearn.dummy.DummyRegressor`. Какое качество она показывает на тесте? Посчитайте MSE, RMSE."
      ]
    },
    {
      "cell_type": "code",
      "execution_count": null,
      "metadata": {
        "id": "w4y9_GZBlnk_"
      },
      "outputs": [],
      "source": [
        "from sklearn.dummy import DummyRegressor\n",
        "from sklearn.metrics import mean_squared_error,r2_score\n",
        "\n",
        "\n",
        "dummy_regres = DummyRegressor()\n",
        "dummy_regers=dummy_regres.fit(Xtrain, Ytrain)"
      ]
    },
    {
      "cell_type": "code",
      "execution_count": null,
      "metadata": {
        "colab": {
          "base_uri": "https://localhost:8080/"
        },
        "id": "ny2ZzaRBzN0F",
        "outputId": "3cc465e0-e1a1-44a5-c5c3-930bd2c2f4e4"
      },
      "outputs": [
        {
          "output_type": "stream",
          "name": "stdout",
          "text": [
            "MSE: 23338.157974560116\n",
            "RMSE: 152.7683146943767\n",
            "R2SCORE: -0.00010788483577250929\n"
          ]
        }
      ],
      "source": [
        "yprediction=dummy_regres.predict(Xtest)\n",
        "mse=mean_squared_error(Ytest,yprediction)\n",
        "rmse=np.sqrt(mean_squared_error(Ytest,yprediction))\n",
        "r2=r2_score(Ytest,yprediction)\n",
        "print(\"MSE:\",mse)\n",
        "print(\"RMSE:\",rmse)\n",
        "print(\"R2SCORE:\",r2)"
      ]
    },
    {
      "cell_type": "markdown",
      "metadata": {
        "id": "rVW-MtPgF_vE"
      },
      "source": [
        "## Дерево решений\n",
        "\n",
        "Обучите регрессионное дерево решений, проверьте качество этой модели на тестовой выборке. Улучшилось ли качество по сравнению с базовой моделью? Оцените r2_score обученной модели."
      ]
    },
    {
      "cell_type": "code",
      "execution_count": null,
      "metadata": {
        "id": "35r6N8HM2Vr0"
      },
      "outputs": [],
      "source": [
        "from sklearn.tree import DecisionTreeRegressor\n",
        "\n",
        "\n",
        "dtree = DecisionTreeRegressor()\n",
        "dtree.fit(Xtrain, Ytrain)\n",
        "yprediction=dtree.predict(Xtest)"
      ]
    },
    {
      "cell_type": "code",
      "source": [
        "mse=mean_squared_error(Ytest,yprediction)\n",
        "rmse=np.sqrt(mean_squared_error(Ytest,yprediction))\n",
        "r2=r2_score(Ytest,yprediction)\n",
        "print(\"R2SCORE:\",r2)\n",
        "print(\"MSE:\",mse)\n",
        "print(\"RMSE:\",rmse)"
      ],
      "metadata": {
        "colab": {
          "base_uri": "https://localhost:8080/"
        },
        "id": "38yl_TACP9Sf",
        "outputId": "af23b680-bee6-40a8-a2a1-097d62d5e8aa"
      },
      "execution_count": null,
      "outputs": [
        {
          "output_type": "stream",
          "name": "stdout",
          "text": [
            "R2SCORE: -0.10101300549118308\n",
            "MSE: 25692.84358598765\n",
            "RMSE: 160.2898736227203\n"
          ]
        }
      ]
    },
    {
      "cell_type": "markdown",
      "source": [
        "Качество ухудшилось по сравнению с базовой(dummy) моделью"
      ],
      "metadata": {
        "id": "szXLGrrNQeFm"
      }
    },
    {
      "cell_type": "markdown",
      "metadata": {
        "id": "viVY_kUMG7Jv"
      },
      "source": [
        "## Линейная регрессия\n",
        "\n",
        "Попробуйте обучить линейную регрессию с параметрами по умолчанию. Оцените r2_score на тестовой выборке. Сравните качество с деревом решений. "
      ]
    },
    {
      "cell_type": "code",
      "execution_count": null,
      "metadata": {
        "colab": {
          "base_uri": "https://localhost:8080/"
        },
        "id": "0ald_d003mzL",
        "outputId": "57d6bf88-869b-4c8f-bd36-78054855daa2"
      },
      "outputs": [
        {
          "output_type": "stream",
          "name": "stdout",
          "text": [
            "MSE: 23301.866049616085\n",
            "RMSE: 152.64948755110868\n",
            "R2SCORE: 0.0014473296045428574\n"
          ]
        }
      ],
      "source": [
        "from sklearn.linear_model import LinearRegression\n",
        "\n",
        "linear = LinearRegression()\n",
        "linear.fit(Xtrain, Ytrain)\n",
        "y_pred = linear.predict(Xtest)\n",
        "\n",
        "yprediction=linear.predict(Xtest)\n",
        "mse=mean_squared_error(Ytest,yprediction)\n",
        "rmse=np.sqrt(mean_squared_error(Ytest,yprediction))\n",
        "r2=r2_score(Ytest,yprediction)\n",
        "print(\"MSE:\",mse)\n",
        "print(\"RMSE:\",rmse)\n",
        "print(\"R2SCORE:\",r2)"
      ]
    },
    {
      "cell_type": "markdown",
      "source": [
        "Лучше дерева, но все еще хуже dummy модели"
      ],
      "metadata": {
        "id": "dHOwq4Y9QtLH"
      }
    },
    {
      "cell_type": "markdown",
      "metadata": {
        "id": "3J71riX2Guj3"
      },
      "source": [
        "# Гиперпараметры (2 балла)\n",
        "\n",
        "Переберите несколько гиперпараметров (не более двух-трёх). Обратите внимание, как эти параметры влияют на ошибку модели на тестовой выборке. Постройте для глубины дерева график переобучения (fitting curve) аналогичный тому, что мы строили на занятии. Найдите глубину дерева, начиная с которой модель начинает переобучаться."
      ]
    },
    {
      "cell_type": "code",
      "source": [
        "import seaborn as sns"
      ],
      "metadata": {
        "id": "QsPE27ahSQa0"
      },
      "execution_count": null,
      "outputs": []
    },
    {
      "cell_type": "code",
      "source": [
        "\n",
        "def PFC (parameter: str, values: list, trX = Xtrain, tsX = Xtest, trY = Ytrain, tsY = Ytest):\n",
        "    trainCurve = []\n",
        "    testCurve = []\n",
        "    for value in values:\n",
        "        treeModel = DecisionTreeRegressor(**{parameter: value})\n",
        "        treeModel.fit(trX, trY)\n",
        "        predictTrainY = treeModel.predict(trX)\n",
        "        predictTestY =  treeModel.predict(tsX)\n",
        "        trainCurve.append(r2_score(trY, predictTrainY))\n",
        "        testCurve.append(r2_score(tsY, predictTestY))\n",
        "    sns.lineplot(x=values, y=trainCurve, label='train')\n",
        "    sns.lineplot(x=values, y=testCurve, label='test')"
      ],
      "metadata": {
        "id": "h_Z20jWDSQZ-"
      },
      "execution_count": null,
      "outputs": []
    },
    {
      "cell_type": "markdown",
      "source": [
        "Построим графики "
      ],
      "metadata": {
        "id": "6p8BEQR3TVO2"
      }
    },
    {
      "cell_type": "code",
      "source": [
        "PFC('max_depth', np.arange(1, 10))"
      ],
      "metadata": {
        "colab": {
          "base_uri": "https://localhost:8080/",
          "height": 430
        },
        "id": "YAbq4mW3T0ve",
        "outputId": "380eaa6e-0e83-49ad-83ed-6107d7e17fbd"
      },
      "execution_count": null,
      "outputs": [
        {
          "output_type": "display_data",
          "data": {
            "text/plain": [
              "<Figure size 640x480 with 1 Axes>"
            ],
            "image/png": "[encoded data removed]"
          },
          "metadata": {}
        }
      ]
    },
    {
      "cell_type": "markdown",
      "source": [
        "Выберем тут 5"
      ],
      "metadata": {
        "id": "YPFj9sU9VKd2"
      }
    },
    {
      "cell_type": "code",
      "source": [
        "PFC('min_samples_split', np.arange(2, 10))"
      ],
      "metadata": {
        "colab": {
          "base_uri": "https://localhost:8080/",
          "height": 434
        },
        "id": "lRouV6EqVGOf",
        "outputId": "c5b0fc40-2185-46f4-f900-02b00745d443"
      },
      "execution_count": null,
      "outputs": [
        {
          "output_type": "display_data",
          "data": {
            "text/plain": [
              "<Figure size 640x480 with 1 Axes>"
            ],
            "image/png": "[encoded data removed]"
          },
          "metadata": {}
        }
      ]
    },
    {
      "cell_type": "markdown",
      "source": [
        "Тут выберем 4"
      ],
      "metadata": {
        "id": "shK1sVyeVWn2"
      }
    },
    {
      "cell_type": "code",
      "source": [
        "PFC('min_samples_leaf', np.arange(1, 20, 1))"
      ],
      "metadata": {
        "colab": {
          "base_uri": "https://localhost:8080/",
          "height": 434
        },
        "id": "9xO3Xyl6VXNt",
        "outputId": "4c35afec-fd52-4ec8-b664-21de2f388125"
      },
      "execution_count": null,
      "outputs": [
        {
          "output_type": "display_data",
          "data": {
            "text/plain": [
              "<Figure size 640x480 with 1 Axes>"
            ],
            "image/png": "[encoded data removed]"
          },
          "metadata": {}
        }
      ]
    },
    {
      "cell_type": "markdown",
      "source": [
        "В 7 нет сильных перепадов. Строим дерево на основе параметров"
      ],
      "metadata": {
        "id": "l028Y18PVm5_"
      }
    },
    {
      "cell_type": "code",
      "source": [
        "parameterTree = DecisionTreeRegressor(max_depth=5, min_samples_split=4, min_samples_leaf=7)\n",
        "parameterTree.fit(Xtrain, Ytrain)\n",
        "predictY = parameterTree.predict(Xtest)\n",
        "\n",
        "MSE =  mean_squared_error(Ytest, predictY)\n",
        "RMSE = np.sqrt(MSE)\n",
        "R2 = r2_score(Ytest, predictY)\n",
        "\n",
        "print(\"MSE:\",mse)\n",
        "print(\"RMSE:\",rmse)\n",
        "print(\"R2SCORE:\",r2)"
      ],
      "metadata": {
        "colab": {
          "base_uri": "https://localhost:8080/"
        },
        "id": "EWqHUNgQVq09",
        "outputId": "1cfa105f-d377-4357-d02a-6a83ef157ea1"
      },
      "execution_count": null,
      "outputs": [
        {
          "output_type": "stream",
          "name": "stdout",
          "text": [
            "MSE: 23301.866049616085\n",
            "RMSE: 152.64948755110868\n",
            "R2SCORE: 0.0014473296045428574\n"
          ]
        }
      ]
    },
    {
      "cell_type": "markdown",
      "source": [
        "Получилось гораздо лучше, чем с обычным деревом решений"
      ],
      "metadata": {
        "id": "82XwFItYXOEV"
      }
    },
    {
      "cell_type": "markdown",
      "metadata": {
        "id": "rJlf6gJ9RBhf"
      },
      "source": [
        "# Простое ансамблирование (1 балл)\n",
        "\n",
        "В этой секции мы реализуем простой ансамбль деревьев."
      ]
    },
    {
      "cell_type": "code",
      "execution_count": null,
      "metadata": {
        "id": "Ht7wq9TqUfvZ"
      },
      "outputs": [],
      "source": [
        "class EnsembleTreeRegressor:\n",
        "    def __init__(self, num_trees=5, samples_frac=0.8, **model_kwargs):\n",
        "        self.num_trees= num_trees\n",
        "        self._samples_frac = 0.8\n",
        "        self._trees = [DecisionTreeRegressor(**model_kwargs) for _ in range(num_trees)]\n",
        "    def fit(self, x, y: pd.Series):\n",
        "        x = pd.DataFrame(x)\n",
        "        y = y.reset_index(drop=True)\n",
        "        for tree in self._trees:\n",
        "            tree_x = x.sample(frac=self._samples_frac, random_state=42)\n",
        "            tree_y = y[tree_x.index]\n",
        "            tree.fit(tree_x, tree_y)\n",
        "        return self\n",
        "\n",
        "    def predict(self, x: pd.DataFrame):\n",
        "        x = pd.DataFrame(x)\n",
        "        res = []\n",
        "        for i in range(self.num_trees):\n",
        "          res.append(self._trees[i].predict(x))\n",
        "        return sum(res) / len(res)"
      ]
    },
    {
      "cell_type": "code",
      "source": [],
      "metadata": {
        "id": "rZSlHPaeRrtN"
      },
      "execution_count": null,
      "outputs": []
    },
    {
      "cell_type": "markdown",
      "source": [
        "Обучим предлагаемый ассамбль и выведем значения для сравнения с теми, что были в прошлый раз\n",
        "\n"
      ],
      "metadata": {
        "id": "_Xo45S5ZQ-3Q"
      }
    },
    {
      "cell_type": "code",
      "source": [
        "ensam = EnsembleTreeRegressor()\n",
        "ensam.fit(Xtrain, Ytrain)\n",
        "ypredict = ensam.predict(Xtest)\n",
        "mse=mean_squared_error(Ytest,yprediction)\n",
        "rmse=np.sqrt(mean_squared_error(Ytest,yprediction))\n",
        "r2=r2_score(Ytest,yprediction)\n",
        "print(\"MSE:\",mse)\n",
        "print(\"RMSE:\",rmse)\n",
        "print(\"R2SCORE:\",r2)"
      ],
      "metadata": {
        "id": "aKf_HtopRe7v"
      },
      "execution_count": null,
      "outputs": []
    }
  ],
  "metadata": {
    "colab": {
      "provenance": []
    },
    "gpuClass": "standard",
    "kernelspec": {
      "display_name": "base",
      "language": "python",
      "name": "python3"
    },
    "language_info": {
      "codemirror_mode": {
        "name": "ipython",
        "version": 3
      },
      "file_extension": ".py",
      "mimetype": "text/x-python",
      "name": "python",
      "nbconvert_exporter": "python",
      "pygments_lexer": "ipython3",
      "version": "3.8.15"
    },
    "vscode": {
      "interpreter": {
        "hash": "e4cce46d6be9934fbd27f9ca0432556941ea5bdf741d4f4d64c6cd7f8dfa8fba"
      }
    }
  },
  "nbformat": 4,
  "nbformat_minor": 0
}